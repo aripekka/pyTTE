{
 "cells": [
  {
   "cell_type": "markdown",
   "metadata": {},
   "source": [
    "# TTcrystal - Define the crystal parameters\n",
    "\n",
    "In this file the usage of TTcrystal class is demonstrated. TTcrystal holds all the necessary information about the crystal, it's reflection and deformation that is passed as an input to the TT-solver. Let's start by doing some imports:"
   ]
  },
  {
   "cell_type": "code",
   "execution_count": 13,
   "metadata": {},
   "outputs": [],
   "source": [
    "import sys\n",
    "import os.path\n",
    "\n",
    "sys.path.insert(1, '..')\n",
    "\n",
    "from pyTTE import TTcrystal, Quantity"
   ]
  },
  {
   "cell_type": "markdown",
   "metadata": {},
   "source": [
    "TTcrystal object can be initialized either by passing the parameters of the crystal as keyword arguments, or by reading them from a file. Let's examine the former case first.\n",
    "\n",
    "The initialization of the class requires at least the following three parameters: _crystal_, _hkl_, _thickness_. This initializes a symmetric Bragg case of reflection $(hkl)$ of a perfect, non-deformed crystal. For example:"
   ]
  },
  {
   "cell_type": "code",
   "execution_count": 14,
   "metadata": {},
   "outputs": [
    {
     "name": "stdout",
     "output_type": "stream",
     "text": [
      "Crystal: Si\n",
      "Crystallographic parameters:\n",
      "    a = 0.543069 nm,  b = 0.543069 nm,  c = 0.543069 nm\n",
      "    alpha = 90.0 deg,  beta = 90.0 nm,  gamma = 90.0 deg\n",
      "Direct primitive vectors (before rotations, in nm):\n",
      "    a1 = [0.5431 0.     0.    ]\n",
      "    a2 = [0.     0.5431 0.    ]\n",
      "    a3 = [0.     0.     0.5431]\n",
      "Reciprocal primitive vectors (before rotations, in 1/nm):\n",
      "    b1 = [11.5698 -0.     -0.    ]\n",
      "    b2 = [ 0.     11.5698 -0.    ]\n",
      "    b3 = [ 0.      0.     11.5698]\n",
      "\n",
      "Reflection: [6, 6, 0]\n",
      "Asymmetry angle: 0 deg\n",
      "In-plane rotation angle: 0 deg\n",
      "Crystal directions parallel to the Cartesian axes (after rotations):\n",
      "    x || [ 0.7071 -0.7071 -1.    ]\n",
      "    y || [-0.7071  0.7071 -1.    ]\n",
      "    z || [ 1.  1. -0.]\n",
      "\n",
      "Crystal thickness: 1 mm\n",
      "Debye-Waller factor: 1.0\n",
      "\n",
      "Deformation model: anisotropic toroidal, fixed shape (built-in)\n",
      "Meridional bending radius: inf m\n",
      "Sagittal bending radius: inf m\n",
      "Material elastic isotropy: anisotropic\n",
      "Compliance matrix S (with rotations applied):\n",
      "[[ 0.0055 -0.0008 -0.0013  0.      0.      0.0009]\n",
      " [-0.0008  0.0055 -0.0013 -0.      0.      0.0009]\n",
      " [-0.0013 -0.0013  0.0059 -0.     -0.     -0.0018]\n",
      " [ 0.     -0.     -0.      0.0161 -0.0035  0.    ]\n",
      " [-0.      0.     -0.     -0.0035  0.0161  0.    ]\n",
      " [ 0.0009  0.0009 -0.0018  0.      0.      0.0179]] GPa^-1\n"
     ]
    }
   ],
   "source": [
    "xtal = TTcrystal(crystal = 'Si', hkl=[6,6,0], thickness = Quantity(1,'mm'))\n",
    "\n",
    "print(xtal)"
   ]
  },
  {
   "cell_type": "markdown",
   "metadata": {},
   "source": [
    "The crystallographic parameters are read from _xraylib_. The elastic tensor data is saved in _pyTTE.elastic_tensors.py_.\n",
    "\n",
    "TTcrystal has also many optional parameters to define e.g. asymmetry angle, in plane rotation, deformation andd so on. For extensive list use `help(TTcrystal)`. As an example, a Ge(555) reflection in the Laue case with 5 degree asymmetry and the Debye-Waller factor of 0.8 is defined as follows:"
   ]
  },
  {
   "cell_type": "code",
   "execution_count": 15,
   "metadata": {},
   "outputs": [
    {
     "name": "stdout",
     "output_type": "stream",
     "text": [
      "Crystal: Ge\n",
      "Crystallographic parameters:\n",
      "    a = 0.565735 nm,  b = 0.565735 nm,  c = 0.565735 nm\n",
      "    alpha = 90.0 deg,  beta = 90.0 nm,  gamma = 90.0 deg\n",
      "Direct primitive vectors (before rotations, in nm):\n",
      "    a1 = [0.5657 0.     0.    ]\n",
      "    a2 = [0.     0.5657 0.    ]\n",
      "    a3 = [0.     0.     0.5657]\n",
      "Reciprocal primitive vectors (before rotations, in 1/nm):\n",
      "    b1 = [11.1062 -0.     -0.    ]\n",
      "    b2 = [ 0.     11.1062 -0.    ]\n",
      "    b3 = [ 0.      0.     11.1062]\n",
      "\n",
      "Reflection: [5, 5, 5]\n",
      "Asymmetry angle: 95 deg\n",
      "In-plane rotation angle: 0 deg\n",
      "Crystal directions parallel to the Cartesian axes (after rotations):\n",
      "    x || [0.8097 0.949  1.    ]\n",
      "    y || [-0.2679  1.     -0.7321]\n",
      "    z || [-1.      0.1916  0.6278]\n",
      "\n",
      "Crystal thickness: 1 mm\n",
      "Debye-Waller factor: 0.8\n",
      "\n",
      "Deformation model: anisotropic toroidal, fixed shape (built-in)\n",
      "Meridional bending radius: inf m\n",
      "Sagittal bending radius: inf m\n",
      "Material elastic isotropy: anisotropic\n",
      "Compliance matrix S (with rotations applied):\n",
      "[[ 0.0065 -0.0009 -0.0012 -0.0003  0.0005 -0.    ]\n",
      " [-0.0009  0.0073 -0.002  -0.0001  0.0015  0.0017]\n",
      " [-0.0012 -0.002   0.0076  0.0004 -0.002  -0.0016]\n",
      " [-0.0003 -0.0001  0.0004  0.0178 -0.0032  0.003 ]\n",
      " [ 0.0005  0.0015 -0.002  -0.0032  0.0209 -0.0006]\n",
      " [-0.      0.0017 -0.0016  0.003  -0.0006  0.0222]] GPa^-1\n"
     ]
    }
   ],
   "source": [
    "xtal = TTcrystal(crystal = 'Ge', hkl=[5,5,5], thickness = Quantity(1,'mm'), asymmetry = Quantity(95,'deg'), debye_waller = 0.8)\n",
    "\n",
    "print(xtal)"
   ]
  },
  {
   "cell_type": "markdown",
   "metadata": {},
   "source": [
    "(Note that the symmetric Laue case would be defined by `asymmetry = Quantity(90,'deg')`).\n",
    "\n",
    "It is also possible to adjust the crystal parameters after initialization:"
   ]
  },
  {
   "cell_type": "code",
   "execution_count": 16,
   "metadata": {},
   "outputs": [
    {
     "name": "stdout",
     "output_type": "stream",
     "text": [
      "BEFORE ADJUSTMENT:\n",
      "Crystal: Si\n",
      "Crystallographic parameters:\n",
      "    a = 0.543069 nm,  b = 0.543069 nm,  c = 0.543069 nm\n",
      "    alpha = 90.0 deg,  beta = 90.0 nm,  gamma = 90.0 deg\n",
      "Direct primitive vectors (before rotations, in nm):\n",
      "    a1 = [0.5431 0.     0.    ]\n",
      "    a2 = [0.     0.5431 0.    ]\n",
      "    a3 = [0.     0.     0.5431]\n",
      "Reciprocal primitive vectors (before rotations, in 1/nm):\n",
      "    b1 = [11.5698 -0.     -0.    ]\n",
      "    b2 = [ 0.     11.5698 -0.    ]\n",
      "    b3 = [ 0.      0.     11.5698]\n",
      "\n",
      "Reflection: [6, 6, 0]\n",
      "Asymmetry angle: 0 deg\n",
      "In-plane rotation angle: 0 deg\n",
      "Crystal directions parallel to the Cartesian axes (after rotations):\n",
      "    x || [ 0.7071 -0.7071 -1.    ]\n",
      "    y || [-0.7071  0.7071 -1.    ]\n",
      "    z || [ 1.  1. -0.]\n",
      "\n",
      "Crystal thickness: 1 mm\n",
      "Debye-Waller factor: 1.0\n",
      "\n",
      "Deformation model: anisotropic toroidal, fixed shape (built-in)\n",
      "Meridional bending radius: inf m\n",
      "Sagittal bending radius: inf m\n",
      "Material elastic isotropy: anisotropic\n",
      "Compliance matrix S (with rotations applied):\n",
      "[[ 0.0055 -0.0008 -0.0013  0.      0.      0.0009]\n",
      " [-0.0008  0.0055 -0.0013 -0.      0.      0.0009]\n",
      " [-0.0013 -0.0013  0.0059 -0.     -0.     -0.0018]\n",
      " [ 0.     -0.     -0.      0.0161 -0.0035  0.    ]\n",
      " [-0.      0.     -0.     -0.0035  0.0161  0.    ]\n",
      " [ 0.0009  0.0009 -0.0018  0.      0.      0.0179]] GPa^-1\n",
      "\n",
      "AFTER ADJUSTMENT:\n",
      "Crystal: Si\n",
      "Crystallographic parameters:\n",
      "    a = 0.543069 nm,  b = 0.543069 nm,  c = 0.543069 nm\n",
      "    alpha = 90.0 deg,  beta = 90.0 nm,  gamma = 90.0 deg\n",
      "Direct primitive vectors (before rotations, in nm):\n",
      "    a1 = [0.5431 0.     0.    ]\n",
      "    a2 = [0.     0.5431 0.    ]\n",
      "    a3 = [0.     0.     0.5431]\n",
      "Reciprocal primitive vectors (before rotations, in 1/nm):\n",
      "    b1 = [11.5698 -0.     -0.    ]\n",
      "    b2 = [ 0.     11.5698 -0.    ]\n",
      "    b3 = [ 0.      0.     11.5698]\n",
      "\n",
      "Reflection: [6, 6, 0]\n",
      "Asymmetry angle: 0 deg\n",
      "In-plane rotation angle: -45 deg\n",
      "Crystal directions parallel to the Cartesian axes (after rotations):\n",
      "    x || [-0. -0. -1.]\n",
      "    y || [-1.  1. -0.]\n",
      "    z || [ 1.  1. -0.]\n",
      "\n",
      "Crystal thickness: 500 um\n",
      "Debye-Waller factor: 1.0\n",
      "\n",
      "Deformation model: anisotropic toroidal, fixed shape (built-in)\n",
      "Meridional bending radius: inf m\n",
      "Sagittal bending radius: inf m\n",
      "Material elastic isotropy: anisotropic\n",
      "Compliance matrix S (with rotations applied):\n",
      "[[ 0.0077 -0.0021 -0.0021 -0.      0.      0.    ]\n",
      " [-0.0021  0.0059 -0.0004  0.     -0.      0.    ]\n",
      " [-0.0021 -0.0004  0.0059 -0.     -0.      0.    ]\n",
      " [-0.      0.      0.      0.0196  0.     -0.    ]\n",
      " [ 0.     -0.     -0.     -0.      0.0126  0.    ]\n",
      " [ 0.      0.      0.     -0.      0.      0.0126]] GPa^-1\n"
     ]
    }
   ],
   "source": [
    "xtal = TTcrystal(crystal = 'Si', hkl=[6,6,0], thickness = Quantity(1,'mm'))\n",
    "\n",
    "print('BEFORE ADJUSTMENT:')\n",
    "print(xtal)\n",
    "\n",
    "xtal.set_thickness(Quantity(500,'um'))\n",
    "xtal.set_in_plane_rotation(Quantity(-45,'deg'))\n",
    "\n",
    "print('\\nAFTER ADJUSTMENT:')\n",
    "print(xtal)"
   ]
  },
  {
   "cell_type": "markdown",
   "metadata": {},
   "source": [
    "### Kinematical diffraction conditions\n",
    "\n",
    "`TTcrystal` implements two functions `bragg_energy` and `bragg_angle` that can be used to calculate the photon energy corresponding to the given Bragg angle and vice versa."
   ]
  },
  {
   "cell_type": "code",
   "execution_count": 17,
   "metadata": {},
   "outputs": [
    {
     "name": "stdout",
     "output_type": "stream",
     "text": [
      "Energy of photons corresponding to the Bragg angle 85 deg: 9.723049764800313 keV\n",
      "Bragg angle corresponding to the photon energy 9.723 keV: 85.0033530351427 deg\n"
     ]
    }
   ],
   "source": [
    "incidence_angle = Quantity(85,'deg')\n",
    "photon_energy = Quantity(9.723,'keV')\n",
    "\n",
    "print('Energy of photons corresponding to the Bragg angle '+ str(incidence_angle) +': ' + str(xtal.bragg_energy(incidence_angle)))\n",
    "print('Bragg angle corresponding to the photon energy '+ str(photon_energy) +': ' + str(xtal.bragg_angle(photon_energy)))"
   ]
  },
  {
   "cell_type": "markdown",
   "metadata": {},
   "source": [
    "### Elastic constants\n",
    "\n",
    "Currently (v. 1.0) _pyTTE_ contains elastic tensors only for a handful of crystals that are used most often. In other cases a KeyError will be raised."
   ]
  },
  {
   "cell_type": "code",
   "execution_count": 18,
   "metadata": {},
   "outputs": [
    {
     "name": "stdout",
     "output_type": "stream",
     "text": [
      "\"Elastic parameters for 'NaCl' not found!\"\n"
     ]
    }
   ],
   "source": [
    "try:\n",
    "    TTcrystal(crystal = 'NaCl', hkl=[6,6,0], thickness = Quantity(1,'mm'))\n",
    "except KeyError as ke:\n",
    "    print(ke)"
   ]
  },
  {
   "cell_type": "markdown",
   "metadata": {},
   "source": [
    "In such cases the elastic parameters can be given as input. For example, in the isotropic case Young's modulus and Poisson's ratio are given as follows:"
   ]
  },
  {
   "cell_type": "code",
   "execution_count": 19,
   "metadata": {},
   "outputs": [
    {
     "name": "stdout",
     "output_type": "stream",
     "text": [
      "Crystal: NaCl\n",
      "Crystallographic parameters:\n",
      "    a = 0.563978 nm,  b = 0.563978 nm,  c = 0.563978 nm\n",
      "    alpha = 90.0 deg,  beta = 90.0 nm,  gamma = 90.0 deg\n",
      "Direct primitive vectors (before rotations, in nm):\n",
      "    a1 = [0.564 0.    0.   ]\n",
      "    a2 = [0.    0.564 0.   ]\n",
      "    a3 = [0.    0.    0.564]\n",
      "Reciprocal primitive vectors (before rotations, in 1/nm):\n",
      "    b1 = [11.1408 -0.     -0.    ]\n",
      "    b2 = [ 0.     11.1408 -0.    ]\n",
      "    b3 = [ 0.      0.     11.1408]\n",
      "\n",
      "Reflection: [1, 0, 0]\n",
      "Asymmetry angle: 0 deg\n",
      "In-plane rotation angle: 0 deg\n",
      "Crystal directions parallel to the Cartesian axes (after rotations):\n",
      "    x || [-0.  0. -1.]\n",
      "    y || [0. 1. 0.]\n",
      "    z || [ 1. -0. -0.]\n",
      "\n",
      "Crystal thickness: 1 mm\n",
      "Debye-Waller factor: 1.0\n",
      "\n",
      "Deformation model: isotropic toroidal (built-in)\n",
      "Meridional bending radius: inf m\n",
      "Sagittal bending radius: inf m\n",
      "Material elastic isotropy: isotropic\n",
      "Young's modulus E: 39.98 GPa\n",
      "Poisson's ratio nu: 0.26\n"
     ]
    }
   ],
   "source": [
    "xtal =  TTcrystal(crystal = 'NaCl', hkl=[1,0,0], thickness = Quantity(1,'mm'), E = Quantity(39.98,'GPa'), nu = 0.26)\n",
    "\n",
    "print(xtal)"
   ]
  },
  {
   "cell_type": "markdown",
   "metadata": {},
   "source": [
    "### Deformation\n",
    "\n",
    "PyTTE has three different built-in deformation models for toroidal bending, one for isotropic materials and two for anisotropic. The main parameters defining the deformation are elastic constants (either $E$ and $\\mu$, or $S$) and the bending radii. The meridional and sagittal bending radii are given with the keywords `Rx` and `Ry`, respectively. In the case of spherical bending, a single keyword `R` can be used. "
   ]
  },
  {
   "cell_type": "code",
   "execution_count": 20,
   "metadata": {},
   "outputs": [
    {
     "name": "stdout",
     "output_type": "stream",
     "text": [
      "Crystal: Si\n",
      "Crystallographic parameters:\n",
      "    a = 0.543069 nm,  b = 0.543069 nm,  c = 0.543069 nm\n",
      "    alpha = 90.0 deg,  beta = 90.0 nm,  gamma = 90.0 deg\n",
      "Direct primitive vectors (before rotations, in nm):\n",
      "    a1 = [0.5431 0.     0.    ]\n",
      "    a2 = [0.     0.5431 0.    ]\n",
      "    a3 = [0.     0.     0.5431]\n",
      "Reciprocal primitive vectors (before rotations, in 1/nm):\n",
      "    b1 = [11.5698 -0.     -0.    ]\n",
      "    b2 = [ 0.     11.5698 -0.    ]\n",
      "    b3 = [ 0.      0.     11.5698]\n",
      "\n",
      "Reflection: [6, 6, 0]\n",
      "Asymmetry angle: 0 deg\n",
      "In-plane rotation angle: 0 deg\n",
      "Crystal directions parallel to the Cartesian axes (after rotations):\n",
      "    x || [ 0.7071 -0.7071 -1.    ]\n",
      "    y || [-0.7071  0.7071 -1.    ]\n",
      "    z || [ 1.  1. -0.]\n",
      "\n",
      "Crystal thickness: 1 mm\n",
      "Debye-Waller factor: 1.0\n",
      "\n",
      "Deformation model: anisotropic toroidal, fixed shape (built-in)\n",
      "Meridional bending radius: 0.5 m\n",
      "Sagittal bending radius: inf m\n",
      "Material elastic isotropy: anisotropic\n",
      "Compliance matrix S (with rotations applied):\n",
      "[[ 0.0055 -0.0008 -0.0013  0.      0.      0.0009]\n",
      " [-0.0008  0.0055 -0.0013 -0.      0.      0.0009]\n",
      " [-0.0013 -0.0013  0.0059 -0.     -0.     -0.0018]\n",
      " [ 0.     -0.     -0.      0.0161 -0.0035  0.    ]\n",
      " [-0.      0.     -0.     -0.0035  0.0161  0.    ]\n",
      " [ 0.0009  0.0009 -0.0018  0.      0.      0.0179]] GPa^-1\n"
     ]
    }
   ],
   "source": [
    "xtal = TTcrystal(crystal = 'Si', hkl=[6,6,0], thickness = Quantity(1,'mm'), Rx = Quantity(0.5,'m'), Ry = 'inf')\n",
    "print(xtal)"
   ]
  },
  {
   "cell_type": "markdown",
   "metadata": {},
   "source": [
    "For anisotropic crystals, there is also an additional keyword `fix_to_axes`. `fix_to_axes = 'torques'` is used when the wafer is bent by two orthogonal torques which act about $x$- and $y$-axes, respectively. The deformation field is still determined by the curvature radii `Rx` and `Ry` in the $x$- and $y$-directions but due to the non-diagonal elements of $S$ these may not be the main axis of curvature. This situation is encountered _e.g._ when a free-standing crystal slab is bend by its ends. If `Rx` or `Ry` is `None`, then the corresponding torque is set to zero and the radius of curvature is determined via anticlastic bending.\n",
    "\n",
    "The other option is `fix_to_axes = 'shape'` which fixes `Rx` and `Ry` as the main radii of curvatures and finds the torques needed for such deformation by letting them rotate in the $xy$-plane. This is the case when the wafer is forced to adopt a specific case _e.g._ that of a substrate. In this case `None` values of `Rx` or `Ry` are interpreted as `inf`:s."
   ]
  },
  {
   "cell_type": "code",
   "execution_count": 21,
   "metadata": {},
   "outputs": [
    {
     "name": "stdout",
     "output_type": "stream",
     "text": [
      "Crystal: Si\n",
      "Crystallographic parameters:\n",
      "    a = 0.543069 nm,  b = 0.543069 nm,  c = 0.543069 nm\n",
      "    alpha = 90.0 deg,  beta = 90.0 nm,  gamma = 90.0 deg\n",
      "Direct primitive vectors (before rotations, in nm):\n",
      "    a1 = [0.5431 0.     0.    ]\n",
      "    a2 = [0.     0.5431 0.    ]\n",
      "    a3 = [0.     0.     0.5431]\n",
      "Reciprocal primitive vectors (before rotations, in 1/nm):\n",
      "    b1 = [11.5698 -0.     -0.    ]\n",
      "    b2 = [ 0.     11.5698 -0.    ]\n",
      "    b3 = [ 0.      0.     11.5698]\n",
      "\n",
      "Reflection: [6, 6, 0]\n",
      "Asymmetry angle: 0 deg\n",
      "In-plane rotation angle: 0 deg\n",
      "Crystal directions parallel to the Cartesian axes (after rotations):\n",
      "    x || [ 0.7071 -0.7071 -1.    ]\n",
      "    y || [-0.7071  0.7071 -1.    ]\n",
      "    z || [ 1.  1. -0.]\n",
      "\n",
      "Crystal thickness: 1 mm\n",
      "Debye-Waller factor: 1.0\n",
      "\n",
      "Deformation model: anisotropic toroidal, fixed torques (built-in)\n",
      "Meridional bending radius: 0.5 m\n",
      "Sagittal bending radius: None\n",
      "Material elastic isotropy: anisotropic\n",
      "Compliance matrix S (with rotations applied):\n",
      "[[ 0.0055 -0.0008 -0.0013  0.      0.      0.0009]\n",
      " [-0.0008  0.0055 -0.0013 -0.      0.      0.0009]\n",
      " [-0.0013 -0.0013  0.0059 -0.     -0.     -0.0018]\n",
      " [ 0.     -0.     -0.      0.0161 -0.0035  0.    ]\n",
      " [-0.      0.     -0.     -0.0035  0.0161  0.    ]\n",
      " [ 0.0009  0.0009 -0.0018  0.      0.      0.0179]] GPa^-1\n"
     ]
    }
   ],
   "source": [
    "xtal = TTcrystal(crystal = 'Si', hkl=[6,6,0], thickness = Quantity(1,'mm'), Rx = Quantity(0.5,'m'), Ry = None, fix_to_axes = 'torques')\n",
    "print(xtal)"
   ]
  },
  {
   "cell_type": "markdown",
   "metadata": {},
   "source": [
    "For isotropic material, the main radii of curvature always follow the bending torques, so there is no difference between `fix_to_axes = 'torques'` and `fix_to_axes = 'shape'`. "
   ]
  },
  {
   "cell_type": "code",
   "execution_count": 22,
   "metadata": {},
   "outputs": [
    {
     "name": "stdout",
     "output_type": "stream",
     "text": [
      "Crystal: Si\n",
      "Crystallographic parameters:\n",
      "    a = 0.543069 nm,  b = 0.543069 nm,  c = 0.543069 nm\n",
      "    alpha = 90.0 deg,  beta = 90.0 nm,  gamma = 90.0 deg\n",
      "Direct primitive vectors (before rotations, in nm):\n",
      "    a1 = [0.5431 0.     0.    ]\n",
      "    a2 = [0.     0.5431 0.    ]\n",
      "    a3 = [0.     0.     0.5431]\n",
      "Reciprocal primitive vectors (before rotations, in 1/nm):\n",
      "    b1 = [11.5698 -0.     -0.    ]\n",
      "    b2 = [ 0.     11.5698 -0.    ]\n",
      "    b3 = [ 0.      0.     11.5698]\n",
      "\n",
      "Reflection: [6, 6, 0]\n",
      "Asymmetry angle: 0 deg\n",
      "In-plane rotation angle: 0 deg\n",
      "Crystal directions parallel to the Cartesian axes (after rotations):\n",
      "    x || [ 0.7071 -0.7071 -1.    ]\n",
      "    y || [-0.7071  0.7071 -1.    ]\n",
      "    z || [ 1.  1. -0.]\n",
      "\n",
      "Crystal thickness: 1 mm\n",
      "Debye-Waller factor: 1.0\n",
      "\n",
      "Deformation model: isotropic toroidal (built-in)\n",
      "Meridional bending radius: 0.5 m\n",
      "Sagittal bending radius: None\n",
      "Material elastic isotropy: isotropic\n",
      "Young's modulus E: 160 GPa\n",
      "Poisson's ratio nu: 0.27\n"
     ]
    }
   ],
   "source": [
    "xtal = TTcrystal(crystal = 'Si', hkl=[6,6,0], thickness = Quantity(1,'mm'), Rx = Quantity(0.5,'m'), Ry = None, fix_to_axes = 'torques', E = Quantity(160, 'GPa'),nu = 0.27)\n",
    "print(xtal)"
   ]
  },
  {
   "cell_type": "markdown",
   "metadata": {},
   "source": [
    "Arbitrary deformation fields can be used by defining a custom function that takes in the $x$ and $z$ coordinates in micrometer and returns 2x2 array $J$ so that\n",
    "\n",
    "$\\begin{equation}\n",
    "J = \\left[\\begin{matrix}\n",
    "\\frac{\\partial u_x}{\\partial x} & \\frac{\\partial u_x}{\\partial z} \\\\\n",
    "\\frac{\\partial u_z}{\\partial x} & \\frac{\\partial u_z}{\\partial z} \n",
    "\\end{matrix}\\right]\n",
    "\\end{equation}$\n",
    "\n",
    "The custom Jacobian is added after initialization using `set_deformation`."
   ]
  },
  {
   "cell_type": "code",
   "execution_count": 23,
   "metadata": {},
   "outputs": [
    {
     "name": "stdout",
     "output_type": "stream",
     "text": [
      "Crystal: Si\n",
      "Crystallographic parameters:\n",
      "    a = 0.543069 nm,  b = 0.543069 nm,  c = 0.543069 nm\n",
      "    alpha = 90.0 deg,  beta = 90.0 nm,  gamma = 90.0 deg\n",
      "Direct primitive vectors (before rotations, in nm):\n",
      "    a1 = [0.5431 0.     0.    ]\n",
      "    a2 = [0.     0.5431 0.    ]\n",
      "    a3 = [0.     0.     0.5431]\n",
      "Reciprocal primitive vectors (before rotations, in 1/nm):\n",
      "    b1 = [11.5698 -0.     -0.    ]\n",
      "    b2 = [ 0.     11.5698 -0.    ]\n",
      "    b3 = [ 0.      0.     11.5698]\n",
      "\n",
      "Reflection: [6, 6, 0]\n",
      "Asymmetry angle: 0 deg\n",
      "In-plane rotation angle: 0 deg\n",
      "Crystal directions parallel to the Cartesian axes (after rotations):\n",
      "    x || [ 0.7071 -0.7071 -1.    ]\n",
      "    y || [-0.7071  0.7071 -1.    ]\n",
      "    z || [ 1.  1. -0.]\n",
      "\n",
      "Crystal thickness: 1 mm\n",
      "Debye-Waller factor: 1.0\n",
      "\n",
      "Deformation model: custom Jacobian (bending radii and elastic parameters neglected)\n",
      "Meridional bending radius: inf m\n",
      "Sagittal bending radius: inf m\n",
      "Material elastic isotropy: anisotropic\n",
      "Compliance matrix S (with rotations applied):\n",
      "[[ 0.0055 -0.0008 -0.0013  0.      0.      0.0009]\n",
      " [-0.0008  0.0055 -0.0013 -0.      0.      0.0009]\n",
      " [-0.0013 -0.0013  0.0059 -0.     -0.     -0.0018]\n",
      " [ 0.     -0.     -0.      0.0161 -0.0035  0.    ]\n",
      " [-0.      0.     -0.     -0.0035  0.0161  0.    ]\n",
      " [ 0.0009  0.0009 -0.0018  0.      0.      0.0179]] GPa^-1\n"
     ]
    }
   ],
   "source": [
    "from pyTTE.deformation import isotropic_plate\n",
    "\n",
    "ujac = isotropic_plate(1,1,0.27,1e-4)[0]\n",
    "\n",
    "xtal = TTcrystal(crystal = 'Si', hkl=[6,6,0], thickness = Quantity(1,'mm'))\n",
    "xtal.set_deformation(ujac)\n",
    "\n",
    "print(xtal)"
   ]
  },
  {
   "cell_type": "markdown",
   "metadata": {},
   "source": [
    "## Initialization from a file\n",
    "\n",
    "TTcrystal parameters can be written in a file, the path of which is passed as an argument to the constructor."
   ]
  },
  {
   "cell_type": "code",
   "execution_count": 24,
   "metadata": {},
   "outputs": [
    {
     "name": "stdout",
     "output_type": "stream",
     "text": [
      "Crystal: LiF\n",
      "Crystallographic parameters:\n",
      "    a = 0.402629 nm,  b = 0.402629 nm,  c = 0.402629 nm\n",
      "    alpha = 90.0 deg,  beta = 90.0 nm,  gamma = 90.0 deg\n",
      "Direct primitive vectors (before rotations, in nm):\n",
      "    a1 = [0.4026 0.     0.    ]\n",
      "    a2 = [0.     0.4026 0.    ]\n",
      "    a3 = [0.     0.     0.4026]\n",
      "Reciprocal primitive vectors (before rotations, in 1/nm):\n",
      "    b1 = [15.6054 -0.     -0.    ]\n",
      "    b2 = [ 0.     15.6054 -0.    ]\n",
      "    b3 = [ 0.      0.     15.6054]\n",
      "\n",
      "Reflection: [2, 0, 0]\n",
      "Asymmetry angle: 2.5 deg\n",
      "In-plane rotation angle: 0 deg\n",
      "Crystal directions parallel to the Cartesian axes (after rotations):\n",
      "    x || [ 0.0437  0.     -1.    ]\n",
      "    y || [0. 1. 0.]\n",
      "    z || [ 1.     -0.      0.0437]\n",
      "\n",
      "Crystal thickness: 200.0 um\n",
      "Debye-Waller factor: 1.0\n",
      "\n",
      "Deformation model: anisotropic toroidal, fixed shape (built-in)\n",
      "Meridional bending radius: 1.0 m\n",
      "Sagittal bending radius: inf m\n",
      "Material elastic isotropy: anisotropic\n",
      "Compliance matrix S (with rotations applied):\n",
      "[[ 0.0116 -0.0034 -0.0034  0.     -0.0006 -0.    ]\n",
      " [-0.0034  0.0116 -0.0034 -0.      0.      0.    ]\n",
      " [-0.0034 -0.0034  0.0116  0.      0.0006  0.    ]\n",
      " [ 0.     -0.      0.      0.0157  0.      0.    ]\n",
      " [-0.0006 -0.      0.0006  0.      0.0158  0.    ]\n",
      " [-0.      0.      0.     -0.      0.      0.0157]] GPa^-1\n"
     ]
    }
   ],
   "source": [
    "'''\n",
    "Contents of TTcrystal_init.inp:\n",
    "\n",
    "crystal LiF\n",
    "hkl 2 0 0\n",
    "thickness 200 um\n",
    "asymmetry 2.5 deg\n",
    "Rx 1 m\n",
    "'''\n",
    "\n",
    "print(TTcrystal(filepath = 'TTcrystal_init.inp'))"
   ]
  }
 ],
 "metadata": {
  "kernelspec": {
   "display_name": "Python 3",
   "language": "python",
   "name": "python3"
  },
  "language_info": {
   "codemirror_mode": {
    "name": "ipython",
    "version": 3
   },
   "file_extension": ".py",
   "mimetype": "text/x-python",
   "name": "python",
   "nbconvert_exporter": "python",
   "pygments_lexer": "ipython3",
   "version": "3.6.10"
  }
 },
 "nbformat": 4,
 "nbformat_minor": 4
}
