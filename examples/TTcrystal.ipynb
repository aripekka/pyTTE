{
 "cells": [
  {
   "cell_type": "markdown",
   "metadata": {},
   "source": [
    "# TTcrystal - Define the crystal parameters\n",
    "\n",
    "In this file the usage of TTcrystal class is demonstrated. TTcrystal holds all the necessary information about the crystal, it's reflection and deformation that is passed as an input to the TT-solver. Let's start by doing some imports:"
   ]
  },
  {
   "cell_type": "code",
   "execution_count": 9,
   "metadata": {},
   "outputs": [],
   "source": [
    "import sys\n",
    "import os.path\n",
    "\n",
    "sys.path.insert(1, '..')\n",
    "\n",
    "from pyTTE import TTcrystal, Quantity"
   ]
  },
  {
   "cell_type": "markdown",
   "metadata": {},
   "source": [
    "TTcrystal object can be initialized either by passing the parameters of the crystal as keyword arguments, or by reading them from a file. Let's examine the former case first.\n",
    "\n",
    "The initialization of the class requires at least the following three parameters: _crystal_, _hkl_, _thickness_. This initializes a symmetric Bragg case of reflection $(hkl)$ of a perfect, non-deformed crystal. For example:"
   ]
  },
  {
   "cell_type": "code",
   "execution_count": 8,
   "metadata": {},
   "outputs": [
    {
     "name": "stdout",
     "output_type": "stream",
     "text": [
      "Crystal: Si\n",
      "Crystallographic parameters:\n",
      "    a = 0.543069 nm,  b = 0.543069 nm,  c = 0.543069 nm\n",
      "    alpha = 90.0 deg,  beta = 90.0 nm,  gamma = 90.0 deg\n",
      "Direct primitive vectors (before rotations, in nm):\n",
      "    a1 = [0.5431 0.     0.    ]\n",
      "    a2 = [0.     0.5431 0.    ]\n",
      "    a3 = [0.     0.     0.5431]\n",
      "Reciprocal primitive vectors (before rotations, in 1/nm):\n",
      "    b1 = [11.5698 -0.     -0.    ]\n",
      "    b2 = [ 0.     11.5698 -0.    ]\n",
      "    b3 = [ 0.      0.     11.5698]\n",
      "\n",
      "Reflection: [6, 6, 0]\n",
      "Asymmetry angle: 0 deg\n",
      "In-plane rotation angle: 0 deg\n",
      "Crystal directions parallel to the Cartesian axes (after rotations):\n",
      "    x || [ 0.7071 -0.7071 -1.    ]\n",
      "    y || [-0.7071  0.7071 -1.    ]\n",
      "    z || [ 1.  1. -0.]\n",
      "Debye-Waller factor: 1.0\n",
      "\n",
      "Crystal thickness: 1 mm\n",
      "Meridional bending radius: inf m\n",
      "Sagittal bending radius: inf m\n",
      "\n",
      "Material elastic isotropy: anisotropic\n",
      "Compliance matrix S (with rotations applied):\n",
      "[[ 0.0055 -0.0008 -0.0013  0.      0.      0.0009]\n",
      " [-0.0008  0.0055 -0.0013 -0.      0.      0.0009]\n",
      " [-0.0013 -0.0013  0.0059 -0.     -0.     -0.0018]\n",
      " [ 0.     -0.     -0.      0.0161 -0.0035  0.    ]\n",
      " [-0.      0.     -0.     -0.0035  0.0161  0.    ]\n",
      " [ 0.0009  0.0009 -0.0018  0.      0.      0.0179]] GPa^-1\n"
     ]
    }
   ],
   "source": [
    "xtal = TTcrystal(crystal = 'Si', hkl=[6,6,0], thickness = Quantity(1,'mm'))\n",
    "\n",
    "print(xtal)"
   ]
  },
  {
   "cell_type": "markdown",
   "metadata": {},
   "source": [
    "The crystallographic parameters are read from _xraylib_. The elastic tensor data is saved in _pyTTE.elastic_tensors.py_.\n",
    "\n",
    "TTcrystal has also many optional parameters to define e.g. asymmetry angle, in plane rotation, deformation andd so on. For extensive list use `help(TTcrystal)`. As an example, a Ge(555) reflection in the Laue case with 5 degree asymmetry and the Debye-Waller factor of 0.8 is defined as follows:"
   ]
  },
  {
   "cell_type": "code",
   "execution_count": 3,
   "metadata": {},
   "outputs": [
    {
     "name": "stdout",
     "output_type": "stream",
     "text": [
      "Crystal: Ge\n",
      "Crystallographic parameters:\n",
      "    a = 0.565735 nm,  b = 0.565735 nm,  c = 0.565735 nm\n",
      "    alpha = 90.0 deg,  beta = 90.0 nm,  gamma = 90.0 deg\n",
      "Direct primitive vectors (before rotations, in nm):\n",
      "    a1 = [0.5657 0.     0.    ]\n",
      "    a2 = [0.     0.5657 0.    ]\n",
      "    a3 = [0.     0.     0.5657]\n",
      "Reciprocal primitive vectors (before rotations, in 1/nm):\n",
      "    b1 = [11.1062 -0.     -0.    ]\n",
      "    b2 = [ 0.     11.1062 -0.    ]\n",
      "    b3 = [ 0.      0.     11.1062]\n",
      "\n",
      "Reflection: [5, 5, 5]\n",
      "Asymmetry angle: 95 deg\n",
      "In-plane rotation angle: 0 deg\n",
      "Crystal directions parallel to the Cartesian axes (after rotations):\n",
      "    x || [0.8097 0.949  1.    ]\n",
      "    y || [-0.2679  1.     -0.7321]\n",
      "    z || [-1.      0.1916  0.6278]\n",
      "Debye-Waller factor: 0.8\n",
      "\n",
      "Crystal thickness: 1 mm\n",
      "Meridional bending radius: inf m\n",
      "Sagittal bending radius: inf m\n",
      "\n",
      "Material elastic isotropy: anisotropic\n",
      "Compliance matrix S (with rotations applied):\n",
      "[[ 0.0065 -0.0009 -0.0012 -0.0003  0.0005 -0.    ]\n",
      " [-0.0009  0.0073 -0.002  -0.0001  0.0015  0.0017]\n",
      " [-0.0012 -0.002   0.0076  0.0004 -0.002  -0.0016]\n",
      " [-0.0003 -0.0001  0.0004  0.0178 -0.0032  0.003 ]\n",
      " [ 0.0005  0.0015 -0.002  -0.0032  0.0209 -0.0006]\n",
      " [-0.      0.0017 -0.0016  0.003  -0.0006  0.0222]] GPa^-1\n"
     ]
    }
   ],
   "source": [
    "xtal = TTcrystal(crystal = 'Ge', hkl=[5,5,5], thickness = Quantity(1,'mm'), asymmetry = Quantity(95,'deg'), debye_waller = 0.8)\n",
    "\n",
    "print(xtal)"
   ]
  },
  {
   "cell_type": "markdown",
   "metadata": {},
   "source": [
    "(Note that the symmetric Laue case would be defined by `asymmetry = Quantity(90,'deg')`).\n",
    "\n",
    "It is also possible to adjust the crystal parameters after initialization:"
   ]
  },
  {
   "cell_type": "code",
   "execution_count": 15,
   "metadata": {},
   "outputs": [
    {
     "name": "stdout",
     "output_type": "stream",
     "text": [
      "BEFORE ADJUSTMENT:\n",
      "Crystal: Si\n",
      "Crystallographic parameters:\n",
      "    a = 0.543069 nm,  b = 0.543069 nm,  c = 0.543069 nm\n",
      "    alpha = 90.0 deg,  beta = 90.0 nm,  gamma = 90.0 deg\n",
      "Direct primitive vectors (before rotations, in nm):\n",
      "    a1 = [0.5431 0.     0.    ]\n",
      "    a2 = [0.     0.5431 0.    ]\n",
      "    a3 = [0.     0.     0.5431]\n",
      "Reciprocal primitive vectors (before rotations, in 1/nm):\n",
      "    b1 = [11.5698 -0.     -0.    ]\n",
      "    b2 = [ 0.     11.5698 -0.    ]\n",
      "    b3 = [ 0.      0.     11.5698]\n",
      "\n",
      "Reflection: [6, 6, 0]\n",
      "Asymmetry angle: 0 deg\n",
      "In-plane rotation angle: 0 deg\n",
      "Crystal directions parallel to the Cartesian axes (after rotations):\n",
      "    x || [ 0.7071 -0.7071 -1.    ]\n",
      "    y || [-0.7071  0.7071 -1.    ]\n",
      "    z || [ 1.  1. -0.]\n",
      "Debye-Waller factor: 1.0\n",
      "\n",
      "Crystal thickness: 1 mm\n",
      "Meridional bending radius: inf m\n",
      "Sagittal bending radius: inf m\n",
      "\n",
      "Material elastic isotropy: anisotropic\n",
      "Compliance matrix S (with rotations applied):\n",
      "[[ 0.0055 -0.0008 -0.0013  0.      0.      0.0009]\n",
      " [-0.0008  0.0055 -0.0013 -0.      0.      0.0009]\n",
      " [-0.0013 -0.0013  0.0059 -0.     -0.     -0.0018]\n",
      " [ 0.     -0.     -0.      0.0161 -0.0035  0.    ]\n",
      " [-0.      0.     -0.     -0.0035  0.0161  0.    ]\n",
      " [ 0.0009  0.0009 -0.0018  0.      0.      0.0179]] GPa^-1\n",
      "\n",
      "AFTER ADJUSTMENT:\n",
      "Crystal: Si\n",
      "Crystallographic parameters:\n",
      "    a = 0.543069 nm,  b = 0.543069 nm,  c = 0.543069 nm\n",
      "    alpha = 90.0 deg,  beta = 90.0 nm,  gamma = 90.0 deg\n",
      "Direct primitive vectors (before rotations, in nm):\n",
      "    a1 = [0.5431 0.     0.    ]\n",
      "    a2 = [0.     0.5431 0.    ]\n",
      "    a3 = [0.     0.     0.5431]\n",
      "Reciprocal primitive vectors (before rotations, in 1/nm):\n",
      "    b1 = [11.5698 -0.     -0.    ]\n",
      "    b2 = [ 0.     11.5698 -0.    ]\n",
      "    b3 = [ 0.      0.     11.5698]\n",
      "\n",
      "Reflection: [6, 6, 0]\n",
      "Asymmetry angle: 0 deg\n",
      "In-plane rotation angle: -45 deg\n",
      "Crystal directions parallel to the Cartesian axes (after rotations):\n",
      "    x || [-0. -0. -1.]\n",
      "    y || [-1.  1. -0.]\n",
      "    z || [ 1.  1. -0.]\n",
      "Debye-Waller factor: 1.0\n",
      "\n",
      "Crystal thickness: 500 um\n",
      "Meridional bending radius: inf m\n",
      "Sagittal bending radius: inf m\n",
      "\n",
      "Material elastic isotropy: anisotropic\n",
      "Compliance matrix S (with rotations applied):\n",
      "[[ 0.0077 -0.0021 -0.0021 -0.      0.      0.    ]\n",
      " [-0.0021  0.0059 -0.0004  0.     -0.      0.    ]\n",
      " [-0.0021 -0.0004  0.0059 -0.     -0.      0.    ]\n",
      " [-0.      0.      0.      0.0196  0.     -0.    ]\n",
      " [ 0.     -0.     -0.     -0.      0.0126  0.    ]\n",
      " [ 0.      0.      0.     -0.      0.      0.0126]] GPa^-1\n"
     ]
    }
   ],
   "source": [
    "xtal = TTcrystal(crystal = 'Si', hkl=[6,6,0], thickness = Quantity(1,'mm'))\n",
    "\n",
    "print('BEFORE ADJUSTMENT:')\n",
    "print(xtal)\n",
    "\n",
    "xtal.set_thickness(Quantity(500,'um'))\n",
    "xtal.set_in_plane_rotation(Quantity(-45,'deg'))\n",
    "\n",
    "print('\\nAFTER ADJUSTMENT:')\n",
    "print(xtal)"
   ]
  },
  {
   "cell_type": "markdown",
   "metadata": {},
   "source": [
    "## Elastic constants\n",
    "\n",
    "Currently (v. 1.0) _pyTTE_ contains elastic tensors only for a handful of crystals that are used most often. In other cases a KeyError will be raised."
   ]
  },
  {
   "cell_type": "code",
   "execution_count": 4,
   "metadata": {},
   "outputs": [
    {
     "name": "stdout",
     "output_type": "stream",
     "text": [
      "\"Elastic parameters for 'NaCl' not found!\"\n"
     ]
    }
   ],
   "source": [
    "try:\n",
    "    TTcrystal(crystal = 'NaCl', hkl=[6,6,0], thickness = Quantity(1,'mm'))\n",
    "except KeyError as ke:\n",
    "    print(ke)"
   ]
  },
  {
   "cell_type": "markdown",
   "metadata": {},
   "source": [
    "In such cases the elastic parameters can be given as input. For example, in the isotropic case Young's modulus and Poisson's ratio are given as follows:"
   ]
  },
  {
   "cell_type": "code",
   "execution_count": 5,
   "metadata": {},
   "outputs": [
    {
     "name": "stdout",
     "output_type": "stream",
     "text": [
      "Crystal: NaCl\n",
      "Crystallographic parameters:\n",
      "    a = 0.563978 nm,  b = 0.563978 nm,  c = 0.563978 nm\n",
      "    alpha = 90.0 deg,  beta = 90.0 nm,  gamma = 90.0 deg\n",
      "Direct primitive vectors (before rotations, in nm):\n",
      "    a1 = [0.564 0.    0.   ]\n",
      "    a2 = [0.    0.564 0.   ]\n",
      "    a3 = [0.    0.    0.564]\n",
      "Reciprocal primitive vectors (before rotations, in 1/nm):\n",
      "    b1 = [11.1408 -0.     -0.    ]\n",
      "    b2 = [ 0.     11.1408 -0.    ]\n",
      "    b3 = [ 0.      0.     11.1408]\n",
      "\n",
      "Reflection: [1, 0, 0]\n",
      "Asymmetry angle: 0 deg\n",
      "In-plane rotation angle: 0 deg\n",
      "Crystal directions parallel to the Cartesian axes (after rotations):\n",
      "    x || [-0.  0. -1.]\n",
      "    y || [0. 1. 0.]\n",
      "    z || [ 1. -0. -0.]\n",
      "Debye-Waller factor: 1.0\n",
      "\n",
      "Crystal thickness: 1 mm\n",
      "Meridional bending radius: inf m\n",
      "Sagittal bending radius: inf m\n",
      "\n",
      "Material elastic isotropy: isotropic\n",
      "Young's modulus E: 39.98 GPa\n",
      "Poisson's ratio nu: 0.26\n"
     ]
    }
   ],
   "source": [
    "xtal =  TTcrystal(crystal = 'NaCl', hkl=[1,0,0], thickness = Quantity(1,'mm'), E = Quantity(39.98,'GPa'), nu = 0.26)\n",
    "\n",
    "print(xtal)"
   ]
  },
  {
   "cell_type": "markdown",
   "metadata": {},
   "source": [
    "## Deformation\n",
    "\n",
    "Currently (v. 1.0) supports only toroidal bending. The meridional and sagittal bending radii are given with the keywords `Rx` and `Ry`, respectively. In the case of spherical bending, a single keyword `R` can be used. "
   ]
  },
  {
   "cell_type": "code",
   "execution_count": 19,
   "metadata": {},
   "outputs": [],
   "source": [
    "xtal = TTcrystal(crystal = 'Si', hkl=[6,6,0], thickness = Quantity(1,'mm'), Rx = Quantity(0.5,'m'))"
   ]
  },
  {
   "cell_type": "markdown",
   "metadata": {},
   "source": [
    "## Initialization from a file\n",
    "\n",
    "TTcrystal parameters can be written in a file, the path of which is passed as an argument to the constructor."
   ]
  },
  {
   "cell_type": "code",
   "execution_count": 18,
   "metadata": {},
   "outputs": [
    {
     "name": "stdout",
     "output_type": "stream",
     "text": [
      "Crystal: LiF\n",
      "Crystallographic parameters:\n",
      "    a = 0.402629 nm,  b = 0.402629 nm,  c = 0.402629 nm\n",
      "    alpha = 90.0 deg,  beta = 90.0 nm,  gamma = 90.0 deg\n",
      "Direct primitive vectors (before rotations, in nm):\n",
      "    a1 = [0.4026 0.     0.    ]\n",
      "    a2 = [0.     0.4026 0.    ]\n",
      "    a3 = [0.     0.     0.4026]\n",
      "Reciprocal primitive vectors (before rotations, in 1/nm):\n",
      "    b1 = [15.6054 -0.     -0.    ]\n",
      "    b2 = [ 0.     15.6054 -0.    ]\n",
      "    b3 = [ 0.      0.     15.6054]\n",
      "\n",
      "Reflection: [2, 0, 0]\n",
      "Asymmetry angle: 5.0 deg\n",
      "In-plane rotation angle: 0 deg\n",
      "Crystal directions parallel to the Cartesian axes (after rotations):\n",
      "    x || [ 0.0875  0.     -1.    ]\n",
      "    y || [0. 1. 0.]\n",
      "    z || [ 1.     -0.      0.0875]\n",
      "Debye-Waller factor: 1.0\n",
      "\n",
      "Crystal thickness: 500.0 um\n",
      "Meridional bending radius: 1.0 m\n",
      "Sagittal bending radius: inf m\n",
      "\n",
      "Material elastic isotropy: anisotropic\n",
      "Compliance matrix S (with rotations applied):\n",
      "[[ 0.0115 -0.0034 -0.0033  0.     -0.0012 -0.    ]\n",
      " [-0.0034  0.0116 -0.0034 -0.      0.      0.    ]\n",
      " [-0.0033 -0.0034  0.0115  0.      0.0012  0.    ]\n",
      " [ 0.     -0.      0.      0.0157  0.     -0.    ]\n",
      " [-0.0012 -0.      0.0012  0.      0.0161  0.    ]\n",
      " [-0.      0.      0.      0.      0.      0.0157]] GPa^-1\n"
     ]
    }
   ],
   "source": [
    "'''\n",
    "Contents of TTcrystal_init.inp:\n",
    "\n",
    "crystal LiF\n",
    "hkl 2 0 0\n",
    "thickness 500 um\n",
    "asymmetry 5 deg\n",
    "Rx 1 m\n",
    "'''\n",
    "\n",
    "print(TTcrystal(filepath = 'TTcrystal_init.inp'))"
   ]
  }
 ],
 "metadata": {
  "kernelspec": {
   "display_name": "Python 3",
   "language": "python",
   "name": "python3"
  },
  "language_info": {
   "codemirror_mode": {
    "name": "ipython",
    "version": 3
   },
   "file_extension": ".py",
   "mimetype": "text/x-python",
   "name": "python",
   "nbconvert_exporter": "python",
   "pygments_lexer": "ipython3",
   "version": "3.6.10"
  }
 },
 "nbformat": 4,
 "nbformat_minor": 4
}
