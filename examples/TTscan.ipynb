{
 "cells": [
  {
   "cell_type": "markdown",
   "metadata": {},
   "source": [
    "# TTscan - Define the scan and solver parameters\n",
    "\n",
    "In this file the usage of TTscan class is demonstrated. TTscan holds the information on what kind of a scan is performed (energy or angle, beam polarization) and some solver parameters. Let's start by doing some imports:"
   ]
  },
  {
   "cell_type": "code",
   "execution_count": 1,
   "metadata": {},
   "outputs": [],
   "source": [
    "import sys\n",
    "import os.path\n",
    "\n",
    "import numpy as np\n",
    "\n",
    "sys.path.insert(1, '..')\n",
    "\n",
    "from pyTTE import TTscan, Quantity"
   ]
  },
  {
   "cell_type": "markdown",
   "metadata": {},
   "source": [
    "TTscan object can be initialized either by passing the parameters of the crystal as keyword arguments, or by reading them from a file. Let's examine the former case first.\n",
    "\n",
    "The initialization of the class requires at least the following three parameters: _constant_, _scan_, _polarization_. `constant` is a Quantity object either of type energy or angle which determines the type of the scan _i.e._ if the constant is of type energy, then the incident photon energy is kept constant and the rocking angle is scanned, and vice versa.\n",
    "\n",
    "`scan` is a numpy array wrapped in a Quantity instance of type energy or angle, opposite to that of `constant`. The scan values are given relative to the value corresponding to `constant` via the kinematical Bragg condition. For example, if `constant` $= \\theta$, then the zero value of `scan` corresponds to the photon energy $hc/2 d \\sin \\theta$. \n",
    "\n",
    "`polarization` is either `'sigma'` or `'s'` for $\\sigma$-polarized beam and `'pi'` or `'p'` for $\\pi$-polarized beam.\n",
    "\n",
    "For example, a energy scan from -100 meV to 100 meV about the kinematical diffraction energy at 87$^\\circ$ angle with $\\sigma$-polarized beam is defined by:"
   ]
  },
  {
   "cell_type": "code",
   "execution_count": 2,
   "metadata": {},
   "outputs": [
    {
     "name": "stdout",
     "output_type": "stream",
     "text": [
      "Scan type     : energy\n",
      "Scan constant : 87 deg\n",
      "Polarization  : sigma\n",
      "Scan points   : 150\n",
      "Scan range    : manual from -100.0 to 100.0 meV\n",
      "\n",
      "Integrator                 : zvode_bdf\n",
      "(Minimum) integration step : 1e-10 um\n",
      "Alternative starting depth : None\n",
      "\n"
     ]
    }
   ],
   "source": [
    "tts = TTscan(constant = Quantity(87,'deg'), scan=Quantity(np.linspace(-100,100,150),'meV'), polarization = 's')\n",
    "\n",
    "print(tts)"
   ]
  },
  {
   "cell_type": "markdown",
   "metadata": {},
   "source": [
    "`scan` may also be a positive integer indicating the number of scan points. TakagiTaupin will then automatically calculate the scan limits which may not be perfect but allows user to find the optimal range quicker than by manual trial and error."
   ]
  },
  {
   "cell_type": "code",
   "execution_count": 3,
   "metadata": {},
   "outputs": [
    {
     "name": "stdout",
     "output_type": "stream",
     "text": [
      "Scan type     : angle\n",
      "Scan constant : 10 keV\n",
      "Polarization  : pi\n",
      "Scan points   : 100\n",
      "Scan range    : automatic\n",
      "\n",
      "Integrator                 : zvode_bdf\n",
      "(Minimum) integration step : 1e-10 um\n",
      "Alternative starting depth : None\n",
      "\n"
     ]
    }
   ],
   "source": [
    "tts = TTscan(constant = Quantity(10,'keV'), scan=100, polarization = 'p')\n",
    "\n",
    "print(tts)"
   ]
  },
  {
   "cell_type": "markdown",
   "metadata": {},
   "source": [
    "### Solver parameters\n",
    "\n",
    "TTscan also contains optional parameter for the integrator. Currently (v.1.0) PyTTE uses only the variable-coeffient ordinary differential equation solver (VODE) with backward\n",
    "differential formula (BDF) method. However, it is possible to adjust the minimum intergration step of the VODE integrator which may speed up the integration but lead to numerical instability when the diffraction condition is not met in the crystal. "
   ]
  },
  {
   "cell_type": "code",
   "execution_count": 4,
   "metadata": {},
   "outputs": [
    {
     "name": "stdout",
     "output_type": "stream",
     "text": [
      "Scan type     : angle\n",
      "Scan constant : 10 keV\n",
      "Polarization  : pi\n",
      "Scan points   : 100\n",
      "Scan range    : automatic\n",
      "\n",
      "Integrator                 : zvode_bdf\n",
      "(Minimum) integration step : 0.001 um\n",
      "Alternative starting depth : None\n",
      "\n"
     ]
    }
   ],
   "source": [
    "tts = TTscan(constant = Quantity(10,'keV'), scan=100, polarization = 'p',solver = 'zvode_bdf', integration_step = Quantity(0.001, 'um'))\n",
    "\n",
    "print(tts)"
   ]
  },
  {
   "cell_type": "markdown",
   "metadata": {},
   "source": [
    "For thick crystals with a strain gradient, the integration will take a long time and numerical instability will eventually occur. If the diffraction takes place in the upper part of the crystal, the performance of the integration can be improved by starting the integration somewhere inside the crystal. This can be controlled with `start_depth`, which should be a value in between 0 (the top) and -thickness (the bottom of the crystal)."
   ]
  },
  {
   "cell_type": "code",
   "execution_count": 5,
   "metadata": {},
   "outputs": [
    {
     "name": "stdout",
     "output_type": "stream",
     "text": [
      "Scan type     : angle\n",
      "Scan constant : 10 keV\n",
      "Polarization  : pi\n",
      "Scan points   : 100\n",
      "Scan range    : automatic\n",
      "\n",
      "Integrator                 : zvode_bdf\n",
      "(Minimum) integration step : 1e-10 um\n",
      "Alternative starting depth : -100 um\n",
      "\n"
     ]
    }
   ],
   "source": [
    "tts = TTscan(constant = Quantity(10,'keV'), scan=100, polarization = 'p', start_depth = Quantity(-100, 'um'))\n",
    "\n",
    "print(tts)"
   ]
  },
  {
   "cell_type": "markdown",
   "metadata": {},
   "source": [
    "## Initialization from a file\n",
    "\n",
    "TTscan parameters can be written in a file, the path of which is passed as an argument to the constructor."
   ]
  },
  {
   "cell_type": "code",
   "execution_count": 10,
   "metadata": {},
   "outputs": [
    {
     "name": "stdout",
     "output_type": "stream",
     "text": [
      "Scan type     : angle\n",
      "Scan constant : 12.0 keV\n",
      "Polarization  : sigma\n",
      "Scan points   : 100\n",
      "Scan range    : manual from -50.0 to 50.0 arcsec\n",
      "\n",
      "Integrator                 : zvode_bdf\n",
      "(Minimum) integration step : 1.0 nm\n",
      "Alternative starting depth : -0.1 mm\n",
      "\n"
     ]
    }
   ],
   "source": [
    "'''\n",
    "Contents of TTscan_init.inp:\n",
    "\n",
    "constant 12 keV\n",
    "scan -50 50 100 arcsec\n",
    "polarization sigma\n",
    "solver zvode_bdf\n",
    "integration_step 1 nm\n",
    "'''\n",
    "\n",
    "print(TTscan(filepath = 'TTscan_init.inp'))"
   ]
  },
  {
   "cell_type": "code",
   "execution_count": null,
   "metadata": {},
   "outputs": [],
   "source": []
  }
 ],
 "metadata": {
  "kernelspec": {
   "display_name": "Python 3",
   "language": "python",
   "name": "python3"
  },
  "language_info": {
   "codemirror_mode": {
    "name": "ipython",
    "version": 3
   },
   "file_extension": ".py",
   "mimetype": "text/x-python",
   "name": "python",
   "nbconvert_exporter": "python",
   "pygments_lexer": "ipython3",
   "version": "3.6.10"
  }
 },
 "nbformat": 4,
 "nbformat_minor": 4
}
