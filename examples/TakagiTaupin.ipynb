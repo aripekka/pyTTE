{
 "cells": [
  {
   "cell_type": "markdown",
   "metadata": {},
   "source": [
    "# TakagiTaupin - Calculate the Takagi-Taupin curves\n",
    "\n",
    "This file demonstrates the usage of TakagiTaupin that is the main class of the package. TakagiTaupin solves the TT-equations for deformed crystal using the information given to it in TTcrystal and TTscan. For detailed instruction on their use, please refer to the respective documentation and example Jupyter notebooks."
   ]
  },
  {
   "cell_type": "code",
   "execution_count": 1,
   "metadata": {},
   "outputs": [
    {
     "ename": "SyntaxError",
     "evalue": "name 'output_log' is used prior to global declaration (pyTTE.py, line 511)",
     "output_type": "error",
     "traceback": [
      "Traceback \u001b[1;36m(most recent call last)\u001b[0m:\n",
      "  File \u001b[0;32m\"C:\\Users\\aripekka\\Anaconda3\\lib\\site-packages\\IPython\\core\\interactiveshell.py\"\u001b[0m, line \u001b[0;32m3331\u001b[0m, in \u001b[0;35mrun_code\u001b[0m\n    exec(code_obj, self.user_global_ns, self.user_ns)\n",
      "  File \u001b[0;32m\"<ipython-input-1-fcc13c2b7dd8>\"\u001b[0m, line \u001b[0;32m8\u001b[0m, in \u001b[0;35m<module>\u001b[0m\n    from pyTTE import TakagiTaupin, TTcrystal, TTscan, Quantity\n",
      "\u001b[1;36m  File \u001b[1;32m\"..\\pyTTE\\__init__.py\"\u001b[1;36m, line \u001b[1;32m1\u001b[1;36m, in \u001b[1;35m<module>\u001b[1;36m\u001b[0m\n\u001b[1;33m    from .pyTTE import TakagiTaupin, TTcrystal, TTscan\u001b[0m\n",
      "\u001b[1;36m  File \u001b[1;32m\"..\\pyTTE\\pyTTE.py\"\u001b[1;36m, line \u001b[1;32m511\u001b[0m\n\u001b[1;33m    global output_log\u001b[0m\n\u001b[1;37m    ^\u001b[0m\n\u001b[1;31mSyntaxError\u001b[0m\u001b[1;31m:\u001b[0m name 'output_log' is used prior to global declaration\n"
     ]
    }
   ],
   "source": [
    "import sys\n",
    "import os.path\n",
    "\n",
    "import numpy as np\n",
    "import matplotlib.pyplot as plt\n",
    "\n",
    "sys.path.insert(1, '..')\n",
    "from pyTTE import TakagiTaupin, TTcrystal, TTscan, Quantity"
   ]
  },
  {
   "cell_type": "markdown",
   "metadata": {},
   "source": [
    "### First example: rocking curve of a perfect Si crystal in the Bragg case\n",
    "\n",
    "Let us start with a simple example of calculating the rocking curve of the (111) reflection of a 1 mm thick Si perfect, single crystal. First we define the crystal using TTcrystal class:"
   ]
  },
  {
   "cell_type": "code",
   "execution_count": null,
   "metadata": {},
   "outputs": [],
   "source": [
    "xtal = TTcrystal(crystal='Si', hkl=[1,1,1], thickness=Quantity(1,'mm'))"
   ]
  },
  {
   "cell_type": "markdown",
   "metadata": {},
   "source": [
    "The given keywords `crystal`, `hkl`, and `thickness` are the required minimum amount of parameters to define a crystal. To avoid conversion errors, all the quantities with physical units are handled in _pyTTE_ using the Quantity class which supports most units commonly used in the context of X-ray diffraction.\n",
    "\n",
    "Full information of a TTcrystal instance can be seen by passing it to the `print` function:"
   ]
  },
  {
   "cell_type": "code",
   "execution_count": null,
   "metadata": {},
   "outputs": [],
   "source": [
    "print(xtal)"
   ]
  },
  {
   "cell_type": "markdown",
   "metadata": {},
   "source": [
    "In addition to the crystal parameters, we need to define the scan using the TTscan class. Let's fix the photon energy of the incident beam to 5 keV, use $\\sigma$-polarization and scan the rocking angle from -50 to 150 µrad in 150 steps. In _pyTTE_, all scans are performed relative to the values fulfilling the kinematical Bragg condition $\\lambda = 2 d \\sin \\theta$.  "
   ]
  },
  {
   "cell_type": "code",
   "execution_count": null,
   "metadata": {},
   "outputs": [],
   "source": [
    "scan = TTscan(constant = Quantity(5,'keV'), scan = Quantity(np.linspace(-50,150,150),'urad'), polarization = 'sigma')\n",
    "print(scan)"
   ]
  },
  {
   "cell_type": "markdown",
   "metadata": {},
   "source": [
    "The rocking curve is now calculated by initializing the TakagiTaupin instance with the crystal and scan parameter instances, and calling `.run()`."
   ]
  },
  {
   "cell_type": "code",
   "execution_count": null,
   "metadata": {},
   "outputs": [],
   "source": [
    "tt = TakagiTaupin(xtal, scan)\n",
    "\n",
    "scan_vector, reflectivity, transmission = tt.run()"
   ]
  },
  {
   "cell_type": "markdown",
   "metadata": {},
   "source": [
    "(Note that Jupyter does not update the solving process in the notebook but in the terminal/command prompt.)\n",
    "\n",
    "`.run()` returns the solution but also stores it in `.solution` with all the relevant information and settings pertaining to it. The stored solution can be quickly visualized by calling `.plot()` and saved as an ASCII file with `.save(filename)` "
   ]
  },
  {
   "cell_type": "code",
   "execution_count": null,
   "metadata": {},
   "outputs": [],
   "source": [
    "tt.plot()"
   ]
  },
  {
   "cell_type": "markdown",
   "metadata": {},
   "source": [
    "For reference, the same curve was calculated using _XCRYSTAL_ in _XOP_ 2.4 (http://dx.doi.org/10.1117/12.560903) with the EPDL97 anomalous scattering cross-sections, that are also used by _xraylib_. "
   ]
  },
  {
   "cell_type": "code",
   "execution_count": null,
   "metadata": {},
   "outputs": [],
   "source": [
    "ref = np.loadtxt('reference_spectra/xop_Si_111_bragg.dat')\n",
    "\n",
    "plt.plot(scan_vector,reflectivity)\n",
    "plt.plot(ref[:,0],ref[:,1])\n",
    "plt.legend(['pyTTE','XCRYSTAL'])\n",
    "plt.ylabel('Reflectivity')\n",
    "plt.xlabel('Angle (urad)')\n",
    "plt.show()"
   ]
  },
  {
   "cell_type": "markdown",
   "metadata": {},
   "source": [
    "The result is practically identical with the one calculated with _pyTTE_. Nearly insignificant deviations are probably explained by slight differences in structure factors: \n",
    "\n",
    "_PyTTE_ output:\n",
    "```\n",
    "F0   :  (115.0489207774186+6.498559984990174j)\n",
    "Fh   :  (46.915823878813626-40.417263893823474j)\n",
    "Fb   :  (40.417263893823446+46.91582387881365j)\n",
    "```\n",
    "\n",
    "_Crystal Parameters_ of `XCRYSTAL`:\n",
    "```\n",
    " Structure factor F(0,0,0) =  (  115.01669312000000     ,  6.5506672799999999     )\n",
    " Structure factor FH =  (  47.595073721453730     , -41.044406441453731     )\n",
    " Structure factor FH_BAR =  (  41.044406441453731     ,  47.595073721453730     )\n",
    "```"
   ]
  },
  {
   "cell_type": "markdown",
   "metadata": {},
   "source": [
    "### Second example: The Laue case and automatic scan limits\n",
    "\n",
    "_PyTTE_ does not require explicit differentiation between the Bragg case (reflection geometry) and the Laue case (transmission geometry) since the diffraction geometry is determined automatically from the propagation direction of the diffracted beam. This can be controlled via the asymmetry angle. For a symmetric Laue case, asymmetry angle is set to 90 degrees:"
   ]
  },
  {
   "cell_type": "code",
   "execution_count": null,
   "metadata": {},
   "outputs": [],
   "source": [
    "xtal = TTcrystal(crystal='Ge', hkl=[4,0,0], thickness=Quantity(100,'um'), asymmetry = Quantity(90,'deg'))"
   ]
  },
  {
   "cell_type": "markdown",
   "metadata": {},
   "source": [
    "In the previous example we defined the scan points manually but it can be inconvenient to iterate good values for the scan limits, especially with bent crystals. To make the task easier, _pyTTE_ can try to determine the limits automatically by giving `TTscan` the number of scan points instead of a scan vector. "
   ]
  },
  {
   "cell_type": "code",
   "execution_count": null,
   "metadata": {},
   "outputs": [],
   "source": [
    "scan = TTscan(constant = Quantity(7,'keV'), scan = 150, polarization = 'sigma')\n",
    "print(scan)"
   ]
  },
  {
   "cell_type": "code",
   "execution_count": null,
   "metadata": {},
   "outputs": [],
   "source": [
    "tt = TakagiTaupin(xtal, scan)\n",
    "\n",
    "scan_vector, diffracted, transmission = tt.run()\n",
    "tt.plot()"
   ]
  },
  {
   "cell_type": "markdown",
   "metadata": {},
   "source": [
    "Also in this case, the correspondence with _XCRYSTAL_ is practically perfect. "
   ]
  },
  {
   "cell_type": "code",
   "execution_count": null,
   "metadata": {},
   "outputs": [],
   "source": [
    "ref = np.loadtxt('reference_spectra/xop_Ge_400_laue_transmission.dat')\n",
    "ref2 = np.loadtxt('reference_spectra/xop_Ge_400_laue_diffraction.dat')\n",
    "\n",
    "plt.plot(scan_vector,transmission)\n",
    "plt.plot(scan_vector,diffracted)\n",
    "plt.plot(ref[:,0],ref[:,1])\n",
    "plt.plot(ref2[:,0],ref2[:,1])\n",
    "plt.legend(['pyTTE transmission', 'pyTTE diffraction', 'XCRYSTAL transmission', 'XCRYSTAL diffraction'])\n",
    "plt.ylabel('Reflectivity')\n",
    "plt.xlabel('Angle (urad)')\n",
    "plt.show()"
   ]
  },
  {
   "cell_type": "markdown",
   "metadata": {},
   "source": [
    "### Third example: bent crystals and energy scans\n",
    "\n",
    "Deformation can be introduced by passing the meridional and sagittal bending radii (`Rx` and `Ry`, respectively) to TTcrystal. In the case of spherical bending, a single keyword `R` can be used."
   ]
  },
  {
   "cell_type": "code",
   "execution_count": null,
   "metadata": {},
   "outputs": [],
   "source": [
    "ttx = TTcrystal(crystal='Si', hkl=[6,6,0], thickness=Quantity(150,'um'), R = Quantity(100,'cm'), asymmetry = Quantity(5, 'deg'))\n",
    "tts = TTscan(scan = 200, constant = Quantity(75, 'deg'), polarization = 'pi')\n",
    "\n",
    "tt = TakagiTaupin(ttx,tts)\n",
    "\n",
    "tt.run()\n",
    "tt.plot()"
   ]
  },
  {
   "cell_type": "markdown",
   "metadata": {},
   "source": [
    "By default _pyTTE_ attempts to calculate the toroidal/spherical/cylindrical bending using elastic constants from a built-in compliance matrix $S$ (Source: CRC Handbook of Chemistry and Physics, 82nd edition). \n",
    "\n",
    "For anisotropic crystals, _PyTTE_ has two different deformation models, selected with the TTcrystal keyword `fix_to_axis`. The default value is `'shape'` which assumes that the main axes of curvature are along the coordinate axes $x$ and $y$, and are given by `Rx` and `Ry`. This corresponds to the situation where the crystal is forced to a specific shape _e.g._ by the substrate. The other option is `torques` which assumes that the crystal is bent by two orthogonal torques acting about the aforemention coordinate axes. This applies, for example, when a free standing crystal slab is bent by its ends. In the general case these models are not equal due to non-diagonal elements of $S$. See TTcrystal.ipynb, help(TTcrystal) or the technical docs for more information.\n",
    "\n",
    "Built-in $S$:s are available only for a handful of crystals commonly encountered in X-ray optics. In other cases user needs to define $S$ manually with the keyword `S`. Alternatively, an isotropic deformation model can be used by giving Poisson's ratio $\\nu$ with `nu`. Also Young's modulus $E$ is required but its value is not important here as it is not used in by deformation model. `fix_to_axes` is neglected as the two anisotropic models reduce to the same isotropic model. "
   ]
  },
  {
   "cell_type": "code",
   "execution_count": null,
   "metadata": {},
   "outputs": [],
   "source": [
    "ttx = TTcrystal(crystal='Si', hkl=[6,6,0], thickness=Quantity(150,'um'), R = Quantity(100,'cm'), asymmetry = Quantity(5, 'deg'), nu = 0.22, E = Quantity(150, 'GPa'))\n",
    "tts = TTscan(scan = 200, constant = Quantity(75, 'deg'), polarization = 'pi')\n",
    "\n",
    "tt = TakagiTaupin(ttx,tts)\n",
    "\n",
    "tt.run()\n",
    "tt.plot()"
   ]
  },
  {
   "cell_type": "markdown",
   "metadata": {},
   "source": [
    "Also custom deformation fields can be defined by providing the Jacobian of the displacement vector $\\mathbf{u}$ as a function of $x$ and $z$:\n",
    "\n",
    "$\\begin{equation}\n",
    "J(x,z) = \\left[\\begin{matrix}\n",
    "\\frac{\\partial u_x}{\\partial x}(x,z) & \\frac{\\partial u_x}{\\partial z}(x,z) \\\\\n",
    "\\frac{\\partial u_z}{\\partial x}(x,z) & \\frac{\\partial u_z}{\\partial z}(x,z)\n",
    "\\end{matrix}\\right]\n",
    "\\end{equation}$\n",
    "\n",
    "For reference, we do this for the isotropic bending below. Note that the lengths are exceptionally required to be in micrometers."
   ]
  },
  {
   "cell_type": "code",
   "execution_count": null,
   "metadata": {},
   "outputs": [],
   "source": [
    "def jacobian(x,z):\n",
    "    nu = 0.22\n",
    "    R_bend_in_um = 1e6\n",
    "    thickness_in_um = 150\n",
    "\n",
    "    ux_x = -(z+0.5*thickness_in_um)/R_bend_in_um \n",
    "    ux_z = -x/R_bend_in_um \n",
    "\n",
    "    uz_x = x/R_bend_in_um \n",
    "    uz_z = 2*nu/(1-nu)/R_bend_in_um*(z+0.5*thickness_in_um)\n",
    "\n",
    "    return [[ux_x,ux_z],[uz_x,uz_z]]\n",
    "\n",
    "ttx = TTcrystal(crystal='Si', hkl=[6,6,0], thickness=Quantity(150,'um'), asymmetry = Quantity(5, 'deg'))\n",
    "tts = TTscan(scan = 200, constant = Quantity(75, 'deg'), polarization = 'pi')\n",
    "\n",
    "#The custom Jacobian is given to TTcrystal after the initialization\n",
    "ttx.set_deformation(jacobian = jacobian)\n",
    "\n",
    "tt = TakagiTaupin(ttx,tts)\n",
    "\n",
    "tt.run()\n",
    "tt.plot()"
   ]
  },
  {
   "cell_type": "markdown",
   "metadata": {},
   "source": [
    "### Fourth example: Initialization from file\n",
    "\n",
    "Parameters can also be defined in two input files for `TTcrystal` and `TTscan` which can be passed directly to `TakagiTaupin`."
   ]
  },
  {
   "cell_type": "code",
   "execution_count": null,
   "metadata": {},
   "outputs": [],
   "source": [
    "'''\n",
    "Contents of TTcrystal_init.inp:\n",
    "\n",
    "crystal LiF\n",
    "hkl 2 0 0\n",
    "thickness 200 um\n",
    "asymmetry 2.5 deg\n",
    "Rx 1 m\n",
    "\n",
    "Contents of TTscan_init.inp:\n",
    "\n",
    "constant 8 keV\n",
    "scan -100 25 150 arcsec\n",
    "polarization sigma\n",
    "solver zvode_bdf\n",
    "integration_step 1 nm\n",
    "'''\n",
    "\n",
    "tt = TakagiTaupin('TTcrystal_init.inp','TTscan_init.inp')\n",
    "\n",
    "print(tt)\n",
    "\n",
    "tt.run()\n",
    "tt.plot()\n",
    "plt.show()"
   ]
  }
 ],
 "metadata": {
  "kernelspec": {
   "display_name": "Python 3",
   "language": "python",
   "name": "python3"
  },
  "language_info": {
   "codemirror_mode": {
    "name": "ipython",
    "version": 3
   },
   "file_extension": ".py",
   "mimetype": "text/x-python",
   "name": "python",
   "nbconvert_exporter": "python",
   "pygments_lexer": "ipython3",
   "version": "3.6.10"
  }
 },
 "nbformat": 4,
 "nbformat_minor": 4
}
